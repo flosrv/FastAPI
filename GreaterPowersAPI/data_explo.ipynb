{
 "cells": [
  {
   "cell_type": "code",
   "execution_count": 9,
   "metadata": {},
   "outputs": [
    {
     "name": "stdout",
     "output_type": "stream",
     "text": [
      "Note: you may need to restart the kernel to use updated packages.\n"
     ]
    },
    {
     "name": "stderr",
     "output_type": "stream",
     "text": [
      "\n",
      "[notice] A new release of pip is available: 24.3.1 -> 25.0.1\n",
      "[notice] To update, run: python.exe -m pip install --upgrade pip\n"
     ]
    }
   ],
   "source": [
    "%pip install -q motor"
   ]
  },
  {
   "cell_type": "code",
   "execution_count": 10,
   "metadata": {},
   "outputs": [],
   "source": [
    "import asyncio\n",
    "from motor.motor_asyncio import AsyncIOMotorClient"
   ]
  },
  {
   "cell_type": "code",
   "execution_count": 3,
   "metadata": {},
   "outputs": [
    {
     "name": "stdout",
     "output_type": "stream",
     "text": [
      "Successfully connected to MongoDB!\n"
     ]
    }
   ],
   "source": [
    "from db.db_main import DarkstarDb, collection_weapons,collection_ability_mechanics, collection_consumables,collection_skyship_upgrades,collection_abilities, collection_devs_data, collection_players_data"
   ]
  },
  {
   "cell_type": "code",
   "execution_count": null,
   "metadata": {},
   "outputs": [
    {
     "name": "stdout",
     "output_type": "stream",
     "text": [
      "🚀 Début de la mise à jour des champs ['Cooldown (in turns)'] vers int...\n",
      "\n",
      "\n",
      "🎯 Mise à jour terminée !\n"
     ]
    }
   ],
   "source": [
    "async def update_collection_fields(collection, fields, target_type=int):\n",
    "    \"\"\"\n",
    "    Met à jour les champs spécifiés dans tous les documents d'une collection en les convertissant vers un type donné.\n",
    "    \n",
    "    :param collection: La collection MongoDB à mettre à jour.\n",
    "    :param fields: Liste des champs à convertir (ou un seul champ sous forme de string).\n",
    "    :param target_type: Type de destination (int, float, str, etc.).\n",
    "    \"\"\"\n",
    "    # Vérifier et transformer fields en liste si nécessaire\n",
    "    if isinstance(fields, str):\n",
    "        fields = [fields]  # Convertir un seul champ string en liste\n",
    "    elif not isinstance(fields, list):\n",
    "        print(f\"❌ ERREUR: 'fields' doit être une liste ou une chaîne de caractères. Type reçu: {type(fields)}\")\n",
    "        return\n",
    "\n",
    "    print(f\"🚀 Début de la mise à jour des champs {fields} vers {target_type.__name__}...\\n\")\n",
    "\n",
    "    try:\n",
    "        # Boucle asynchrone pour parcourir les documents\n",
    "        async for doc in collection.find():\n",
    "            try:\n",
    "                doc_id = doc[\"_id\"]  # ID du document\n",
    "                update_fields = {}\n",
    "\n",
    "                print(f\"🔍 Traitement du document ID: {doc_id}\")\n",
    "\n",
    "                for field in fields:\n",
    "                    if field in doc:\n",
    "                        value = doc[field]\n",
    "\n",
    "                        # Vérification de la valeur avant de la convertir\n",
    "                        if value is None or (isinstance(value, str) and value.strip() == ''):\n",
    "                            print(f\"⚠️ Le champ '{field}' est vide ou invalide dans le document ID: {doc_id}. Ignorer cette valeur.\")\n",
    "                            continue\n",
    "\n",
    "                        try:\n",
    "                            # Tentative de conversion de la valeur\n",
    "                            converted_value = target_type(value)\n",
    "                            update_fields[field] = converted_value\n",
    "                            print(f\"✅ Conversion du champ '{field}' avec valeur '{value}' en {target_type.__name__} pour le document ID: {doc_id}\")\n",
    "                        except ValueError:\n",
    "                            print(f\"⚠️ Impossible de convertir '{value}' en {target_type.__name__} pour {field} (ID: {doc_id})\")\n",
    "\n",
    "                # Appliquer la mise à jour si des champs ont été modifiés\n",
    "                if update_fields:\n",
    "                    print(f\"🔨 Mise à jour du document ID: {doc_id} avec {update_fields}\")\n",
    "                    await collection.update_one({\"_id\": doc_id}, {\"$set\": update_fields})\n",
    "                    print(f\"✅ Document ID: {doc_id} mis à jour avec {update_fields}\\n\")\n",
    "                else:\n",
    "                    print(f\"ℹ️ Aucune mise à jour nécessaire pour le document ID: {doc_id}\\n\")\n",
    "\n",
    "            except Exception as e:\n",
    "                print(f\"❌ Erreur lors du traitement du document ID: {doc_id} -> {e}\")\n",
    "\n",
    "    except Exception as e:\n",
    "        print(f\"❌ Erreur générale dans update_collection_fields(): {e}\")\n",
    "\n",
    "    print(\"\\n🎯 Mise à jour terminée !\")\n",
    "\n",
    "# Exécuter dans Jupyter pour la collection \"WEAPONS\"\n",
    "# Appeler la fonction pour la collection \"WEAPONS\" et convertir le champ \"Cooldown (in turns)\" en entier\n",
    "await update_collection_fields(collection_weapons, fields=[\"Cooldown (in turns)\"], target_type=int)\n"
   ]
  }
 ],
 "metadata": {
  "kernelspec": {
   "display_name": "env",
   "language": "python",
   "name": "python3"
  },
  "language_info": {
   "codemirror_mode": {
    "name": "ipython",
    "version": 3
   },
   "file_extension": ".py",
   "mimetype": "text/x-python",
   "name": "python",
   "nbconvert_exporter": "python",
   "pygments_lexer": "ipython3",
   "version": "3.13.2"
  }
 },
 "nbformat": 4,
 "nbformat_minor": 2
}
