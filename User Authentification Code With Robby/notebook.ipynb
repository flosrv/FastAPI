{
 "cells": [
  {
   "cell_type": "code",
   "execution_count": 19,
   "metadata": {},
   "outputs": [],
   "source": [
    "import pandas as pd\n",
    "from sqlalchemy import text, MetaData, create_engine\n",
    "from functions import *\n",
    "from sqlalchemy.exc import ProgrammingError"
   ]
  },
  {
   "cell_type": "code",
   "execution_count": 20,
   "metadata": {},
   "outputs": [
    {
     "name": "stdout",
     "output_type": "stream",
     "text": [
      "The autoreload extension is already loaded. To reload it, use:\n",
      "  %reload_ext autoreload\n"
     ]
    }
   ],
   "source": [
    "%load_ext autoreload\n",
    "%autoreload 1"
   ]
  },
  {
   "cell_type": "code",
   "execution_count": 21,
   "metadata": {},
   "outputs": [],
   "source": [
    "mysql_user = \"flosrv\"\n",
    "password = \"Nesrine123\"\n",
    "host = \"localhost\"\n",
    "port = 3306\n",
    "database = \"Darkstar_Games\"\n",
    "Directors_table = 'Darkstar_Directors'\n",
    "metadata = MetaData()\n",
    "# Connect to the database\n",
    "engine_darkstar = create_engine(f\"mysql+mysqlconnector://{mysql_user}:{password}@{host}/{database}\", isolation_level ='AUTOCOMMIT')"
   ]
  },
  {
   "cell_type": "code",
   "execution_count": 22,
   "metadata": {},
   "outputs": [],
   "source": [
    "def create_table_in_mysql(df: pd.DataFrame, table_name: str, engine):\n",
    "    \"\"\"\n",
    "    Crée une table MySQL avec les colonnes du DataFrame, en supprimant les espaces en trop des noms de colonnes.\n",
    "    \"\"\"\n",
    "    check_table_sql = f\"SHOW TABLES LIKE '{table_name}';\"\n",
    "\n",
    "    try:\n",
    "        with engine.connect() as connection:\n",
    "            result = connection.execute(text(check_table_sql))\n",
    "            if result.fetchone():\n",
    "                print(f\"⚠️ La table '{table_name}' existe déjà dans MySQL. Rien n'a été fait.\")\n",
    "                return  # Ne pas recréer la table si elle existe déjà\n",
    "\n",
    "            # Définition des colonnes avec strip des noms de colonnes\n",
    "            column_definitions = []\n",
    "            for column_name, dtype in df.dtypes.items():\n",
    "                # Appliquer un strip sur les noms de colonnes pour éviter les espaces superflus\n",
    "                clean_column_name = column_name.strip()\n",
    "                \n",
    "                if dtype == 'object': \n",
    "                    column_type = \"VARCHAR(255)\"\n",
    "                elif dtype == 'int64':  \n",
    "                    column_type = \"INT\"\n",
    "                elif dtype == 'float64': \n",
    "                    column_type = \"FLOAT\"\n",
    "                elif dtype == 'datetime64[ns]': \n",
    "                    column_type = \"DATETIME\"\n",
    "                else:\n",
    "                    column_type = \"VARCHAR(255)\"\n",
    "\n",
    "                column_definitions.append(f\"`{clean_column_name}` {column_type}\")\n",
    "\n",
    "            create_table_sql = f\"CREATE TABLE `{table_name}` ({', '.join(column_definitions)});\"\n",
    "            connection.execute(text(create_table_sql))\n",
    "            print(f\"✅ Table '{table_name}' créée avec succès dans MySQL.\")\n",
    "\n",
    "    except Exception as e:\n",
    "        print(f\"❌ Erreur lors de la création de la table : {e}\")\n",
    "\n",
    "def insert_new_rows(engine, df: pd.DataFrame, table_name: str, key_column: str = None):\n",
    "    \"\"\"\n",
    "    Insère uniquement les nouvelles lignes dans MySQL en comparant la colonne spécifiée.\n",
    "    \"\"\"\n",
    "    try:\n",
    "        # Vérifier si la table existe\n",
    "        check_table_sql = f\"SHOW TABLES LIKE '{table_name}';\"\n",
    "        with engine.connect() as connection:\n",
    "            table_exists = connection.execute(text(check_table_sql)).fetchone()\n",
    "\n",
    "        if not table_exists:\n",
    "            print(f\"⚠️ La table '{table_name}' n'existe pas. Création en cours...\")\n",
    "            create_table_in_mysql(df, table_name, engine)  # Créer la table si elle n'existe pas\n",
    "\n",
    "        # Vérifier les colonnes existantes dans la table\n",
    "        query_columns = f\"SHOW COLUMNS FROM `{table_name}`;\"\n",
    "        with engine.connect() as connection:\n",
    "            existing_columns = [row[0] for row in connection.execute(text(query_columns)).fetchall()]\n",
    "\n",
    "        # Appliquer un strip aux noms de colonnes dans le DataFrame avant insertion\n",
    "        df.columns = df.columns.str.strip()\n",
    "\n",
    "        # Aligner les colonnes du DataFrame avec celles de la table MySQL\n",
    "        df = df[[col for col in df.columns if col in existing_columns]]\n",
    "\n",
    "        if key_column and key_column in existing_columns:\n",
    "            # Récupérer la valeur max de key_column dans la table\n",
    "            query = f\"SELECT MAX(`{key_column}`) FROM `{table_name}`;\"\n",
    "            with engine.connect() as connection:\n",
    "                result = connection.execute(text(query)).scalar()\n",
    "\n",
    "            if result is None:\n",
    "                print(f\"💾 Aucune donnée dans '{table_name}', insertion de toutes les lignes.\")\n",
    "                df.to_sql(name=table_name, con=engine, if_exists='append', index=False)\n",
    "                print(f\"✅ {len(df)} nouvelles lignes insérées.\")\n",
    "                return\n",
    "\n",
    "            df[key_column] = pd.to_datetime(df[key_column])\n",
    "            new_rows = df[df[key_column] > result]\n",
    "\n",
    "            if new_rows.empty:\n",
    "                print(f\"✅ Aucune nouvelle ligne à insérer.\")\n",
    "                return\n",
    "\n",
    "            new_rows.to_sql(name=table_name, con=engine, if_exists='append', index=False)\n",
    "            print(f\"✅ {len(new_rows)} nouvelles lignes insérées.\")\n",
    "        else:\n",
    "            df.to_sql(name=table_name, con=engine, if_exists='append', index=False)\n",
    "            print(f\"✅ {len(df)} lignes insérées.\")\n",
    "\n",
    "    except ProgrammingError as e:\n",
    "        print(f\"❌ Erreur SQL détectée : {e}\")\n",
    "    except Exception as e:\n",
    "        print(f\"❌ Erreur lors de l'insertion : {e}\")"
   ]
  },
  {
   "cell_type": "code",
   "execution_count": 23,
   "metadata": {},
   "outputs": [],
   "source": [
    "directors_path = r\"C:\\Users\\f.gionnane\\Documents\\Darkstar Projects\\Company Roster 2024 11 01 - Directors.csv\""
   ]
  },
  {
   "cell_type": "code",
   "execution_count": 24,
   "metadata": {},
   "outputs": [],
   "source": [
    "df_directors = pd.read_csv(directors_path)"
   ]
  },
  {
   "cell_type": "code",
   "execution_count": 25,
   "metadata": {},
   "outputs": [],
   "source": [
    "df = convert_df_columns(df_directors)"
   ]
  },
  {
   "cell_type": "code",
   "execution_count": 26,
   "metadata": {},
   "outputs": [
    {
     "name": "stdout",
     "output_type": "stream",
     "text": [
      "⚠️ La table 'Darkstar_Directors' existe déjà dans MySQL. Rien n'a été fait.\n"
     ]
    }
   ],
   "source": [
    "create_table_in_mysql(df=df_directors, table_name=Directors_table, engine=engine_darkstar)"
   ]
  },
  {
   "cell_type": "code",
   "execution_count": 27,
   "metadata": {},
   "outputs": [
    {
     "name": "stdout",
     "output_type": "stream",
     "text": [
      "✅ 7 lignes insérées.\n"
     ]
    },
    {
     "name": "stderr",
     "output_type": "stream",
     "text": [
      "C:\\Users\\f.gionnane\\AppData\\Local\\Temp\\ipykernel_22280\\1282760122.py:87: UserWarning: The provided table name 'Darkstar_Directors' is not found exactly as such in the database after writing the table, possibly due to case sensitivity issues. Consider using lower case table names.\n",
      "  df.to_sql(name=table_name, con=engine, if_exists='append', index=False)\n"
     ]
    }
   ],
   "source": [
    "insert_new_rows(engine =engine_darkstar, df=df_directors, table_name=Directors_table)"
   ]
  },
  {
   "cell_type": "code",
   "execution_count": null,
   "metadata": {},
   "outputs": [],
   "source": []
  }
 ],
 "metadata": {
  "kernelspec": {
   "display_name": "env",
   "language": "python",
   "name": "python3"
  },
  "language_info": {
   "codemirror_mode": {
    "name": "ipython",
    "version": 3
   },
   "file_extension": ".py",
   "mimetype": "text/x-python",
   "name": "python",
   "nbconvert_exporter": "python",
   "pygments_lexer": "ipython3",
   "version": "3.13.2"
  }
 },
 "nbformat": 4,
 "nbformat_minor": 2
}
